{
 "cells": [
  {
   "cell_type": "code",
   "execution_count": 3,
   "id": "638a62ec",
   "metadata": {},
   "outputs": [],
   "source": [
    "import sympy as sym\n",
    "import numpy as np\n",
    "sym.init_printing()\n",
    "from IPython.display import display,Math"
   ]
  },
  {
   "cell_type": "code",
   "execution_count": 19,
   "id": "8abd4242",
   "metadata": {},
   "outputs": [
    {
     "data": {
      "image/png": "[encoded data removed]",
      "text/latex": [
       "$\\displaystyle x$"
      ],
      "text/plain": [
       "x"
      ]
     },
     "execution_count": 19,
     "metadata": {},
     "output_type": "execute_result"
    }
   ],
   "source": [
    "x,y,z = sym.symbols('x,y,z')\n",
    "x"
   ]
  },
  {
   "cell_type": "code",
   "execution_count": 22,
   "id": "f70cf2f6",
   "metadata": {},
   "outputs": [
    {
     "data": {
      "image/png": "[encoded data removed]",
      "text/latex": [
       "$\\displaystyle x^{y}$"
      ],
      "text/plain": [
       " y\n",
       "x "
      ]
     },
     "metadata": {},
     "output_type": "display_data"
    },
    {
     "data": {
      "image/png": "[encoded data removed]",
      "text/latex": [
       "$\\displaystyle \\sqrt{2}$"
      ],
      "text/plain": [
       "√2"
      ]
     },
     "metadata": {},
     "output_type": "display_data"
    }
   ],
   "source": [
    "display(x**y)\n",
    "display(sym.sqrt(2))"
   ]
  },
  {
   "cell_type": "code",
   "execution_count": 23,
   "id": "514319b3",
   "metadata": {},
   "outputs": [
    {
     "data": {
      "image/png": "[encoded data removed]",
      "text/latex": [
       "$\\displaystyle x^{2} y$"
      ],
      "text/plain": [
       " 2  \n",
       "x ⋅y"
      ]
     },
     "metadata": {},
     "output_type": "display_data"
    }
   ],
   "source": [
    "display(y*x**2)"
   ]
  },
  {
   "cell_type": "code",
   "execution_count": 20,
   "id": "e7899661",
   "metadata": {},
   "outputs": [
    {
     "data": {
      "image/png": "[encoded data removed]",
      "text/latex": [
       "$\\displaystyle 2 x$"
      ],
      "text/plain": [
       "2⋅x"
      ]
     },
     "metadata": {},
     "output_type": "display_data"
    }
   ],
   "source": [
    "display(sym.sqrt(4)*x)"
   ]
  },
  {
   "cell_type": "code",
   "execution_count": 21,
   "id": "79cf27d0",
   "metadata": {},
   "outputs": [
    {
     "data": {
      "image/png": "[encoded data removed]",
      "text/latex": [
       "$\\displaystyle x$"
      ],
      "text/plain": [
       "x"
      ]
     },
     "metadata": {},
     "output_type": "display_data"
    }
   ],
   "source": [
    "display(sym.sqrt(x)*sym.sqrt(x))"
   ]
  },
  {
   "cell_type": "code",
   "execution_count": 18,
   "id": "9718f05b",
   "metadata": {},
   "outputs": [
    {
     "data": {
      "text/latex": [
       "$\\displaystyle \\text{with } x=-2: x^2 + 4 \\quad \\Rightarrow \\quad -2^2 + 4 = 8$"
      ],
      "text/plain": [
       "<IPython.core.display.Math object>"
      ]
     },
     "metadata": {},
     "output_type": "display_data"
    },
    {
     "data": {
      "text/latex": [
       "$\\displaystyle \\text{with } x=-1: x^2 + 4 \\quad \\Rightarrow \\quad -1^2 + 4 = 5$"
      ],
      "text/plain": [
       "<IPython.core.display.Math object>"
      ]
     },
     "metadata": {},
     "output_type": "display_data"
    },
    {
     "data": {
      "text/latex": [
       "$\\displaystyle \\text{with } x=0: x^2 + 4 \\quad \\Rightarrow \\quad 0^2 + 4 = 4$"
      ],
      "text/plain": [
       "<IPython.core.display.Math object>"
      ]
     },
     "metadata": {},
     "output_type": "display_data"
    },
    {
     "data": {
      "text/latex": [
       "$\\displaystyle \\text{with } x=1: x^2 + 4 \\quad \\Rightarrow \\quad 1^2 + 4 = 5$"
      ],
      "text/plain": [
       "<IPython.core.display.Math object>"
      ]
     },
     "metadata": {},
     "output_type": "display_data"
    },
    {
     "data": {
      "text/latex": [
       "$\\displaystyle \\text{with } x=2: x^2 + 4 \\quad \\Rightarrow \\quad 2^2 + 4 = 8$"
      ],
      "text/plain": [
       "<IPython.core.display.Math object>"
      ]
     },
     "metadata": {},
     "output_type": "display_data"
    }
   ],
   "source": [
    "expr = x**2 + 4\n",
    "for i in range(-2,3):\n",
    "    display(Math('\\\\text{with } x=%g: x^2 + 4 \\\\quad \\\\Rightarrow \\\\quad %g^2 + 4 = %g' %(i,i,expr.subs(x,i))))"
   ]
  },
  {
   "cell_type": "code",
   "execution_count": 23,
   "id": "8dbf5ef9",
   "metadata": {},
   "outputs": [
    {
     "data": {
      "text/latex": [
       "$\\displaystyle x^{y} x^{z} = x^{y + z}$"
      ],
      "text/plain": [
       "<IPython.core.display.Math object>"
      ]
     },
     "metadata": {},
     "output_type": "display_data"
    },
    {
     "data": {
      "text/latex": [
       "$\\displaystyle x^{y} x^{- z} = x^{y - z}$"
      ],
      "text/plain": [
       "<IPython.core.display.Math object>"
      ]
     },
     "metadata": {},
     "output_type": "display_data"
    },
    {
     "data": {
      "text/latex": [
       "$\\displaystyle x^{y} y^{z} = x^{y} y^{z}$"
      ],
      "text/plain": [
       "<IPython.core.display.Math object>"
      ]
     },
     "metadata": {},
     "output_type": "display_data"
    }
   ],
   "source": [
    "# use of symplify function in sympy\n",
    "exp1 = x**y * x**z\n",
    "exp2 = x**y / x**z\n",
    "exp3 = x**y * y**z\n",
    "display(Math('%s = %s'%(sym.latex(exp1),sym.latex(sym.simplify(exp1)))))\n",
    "display(Math('%s = %s'%(sym.latex(exp2),sym.latex(sym.simplify(exp2)))))\n",
    "display(Math('%s = %s'%(sym.latex(exp3),sym.latex(sym.simplify(exp3)))))\n"
   ]
  },
  {
   "cell_type": "code",
   "execution_count": 29,
   "id": "29b0488e",
   "metadata": {},
   "outputs": [
    {
     "data": {
      "image/png": "[encoded data removed]",
      "text/latex": [
       "$\\displaystyle x^{y} x^{z} = x^{y + z}$"
      ],
      "text/plain": [
       " y  z    y + z\n",
       "x ⋅x  = x     "
      ]
     },
     "metadata": {},
     "output_type": "display_data"
    },
    {
     "data": {
      "image/png": "[encoded data removed]",
      "text/latex": [
       "$\\displaystyle \\text{True}$"
      ],
      "text/plain": [
       "True"
      ]
     },
     "metadata": {},
     "output_type": "display_data"
    }
   ],
   "source": [
    "lhs = exp1\n",
    "rhs = sym.simplify(exp1)\n",
    "display(sym.Eq(lhs,rhs))\n",
    "display(sym.Eq(4,4))"
   ]
  },
  {
   "cell_type": "code",
   "execution_count": null,
   "id": "2d2ddd8c",
   "metadata": {},
   "outputs": [],
   "source": []
  },
  {
   "cell_type": "code",
   "execution_count": null,
   "id": "fc8e0c8a",
   "metadata": {},
   "outputs": [],
   "source": []
  }
 ],
 "metadata": {
  "kernelspec": {
   "display_name": "Python 3 (ipykernel)",
   "language": "python",
   "name": "python3"
  },
  "language_info": {
   "codemirror_mode": {
    "name": "ipython",
    "version": 3
   },
   "file_extension": ".py",
   "mimetype": "text/x-python",
   "name": "python",
   "nbconvert_exporter": "python",
   "pygments_lexer": "ipython3",
   "version": "3.12.3"
  }
 },
 "nbformat": 4,
 "nbformat_minor": 5
}
