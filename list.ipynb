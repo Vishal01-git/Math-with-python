{
 "cells": [
  {
   "cell_type": "code",
   "execution_count": 1,
   "id": "2d0193fb",
   "metadata": {},
   "outputs": [],
   "source": [
    "import numpy as np"
   ]
  },
  {
   "cell_type": "code",
   "execution_count": 3,
   "id": "c37009c1",
   "metadata": {},
   "outputs": [
    {
     "name": "stdout",
     "output_type": "stream",
     "text": [
      "Element at 0 index 3 is type of <class 'int'>\n",
      "Element at 1 index ['3', '4', '5'] is type of <class 'int'>\n",
      "Element at 2 index 5.5 is type of <class 'int'>\n",
      "Element at 3 index [4, 5, 6] is type of <class 'int'>\n"
     ]
    }
   ],
   "source": [
    "arrlist = [3,['3','4','5'],5.5,[4,5,6]]\n",
    "for i in range (len(arrlist)):\n",
    "    print(f'Element at {i} index {arrlist[i]} is type of {type(i)}')"
   ]
  },
  {
   "cell_type": "code",
   "execution_count": 5,
   "id": "45a6094e",
   "metadata": {},
   "outputs": [
    {
     "name": "stdout",
     "output_type": "stream",
     "text": [
      "Element at 0 index 3 is type of <class 'int'>\n",
      "Element at 1 index ['3', '4', '5'] is type of <class 'list'>\n",
      "Element at 2 index 5.5 is type of <class 'float'>\n",
      "Element at 3 index [4, 5, 6] is type of <class 'list'>\n"
     ]
    }
   ],
   "source": [
    "arrlist = [3,['3','4','5'],5.5,[4,5,6]]\n",
    "for idx,item in enumerate(arrlist):\n",
    "    print(f'Element at {idx} index {item} is type of {type(item)}')"
   ]
  },
  {
   "cell_type": "code",
   "execution_count": 18,
   "id": "03a878be",
   "metadata": {},
   "outputs": [
    {
     "name": "stdout",
     "output_type": "stream",
     "text": [
      "list'>\n"
     ]
    },
    {
     "data": {
      "text/plain": [
       "'list'"
      ]
     },
     "execution_count": 18,
     "metadata": {},
     "output_type": "execute_result"
    }
   ],
   "source": [
    "t = str(type(item))[8:]\n",
    "print(t)\n",
    "apost = t.find(\"'\")\n",
    "t[:apost]"
   ]
  },
  {
   "cell_type": "code",
   "execution_count": 23,
   "id": "9fa774ec",
   "metadata": {},
   "outputs": [
    {
     "name": "stdout",
     "output_type": "stream",
     "text": [
      "Element at 0 index 3 is type of int.\n",
      "Element at 1 index ['3', '4', '5'] is type of list.\n",
      "Element at 2 index 5.5 is type of float.\n",
      "Element at 3 index [4, 5, 6] is type of list.\n"
     ]
    }
   ],
   "source": [
    "arrlist = [3,['3','4','5'],5.5,[4,5,6]]\n",
    "for idx,item in enumerate(arrlist):\n",
    "    t = str(type(item))[8:]\n",
    "    apost = t.find(\"'\")\n",
    "    print(f'Element at {idx} index {item} is type of {t[:apost]}.')"
   ]
  },
  {
   "cell_type": "code",
   "execution_count": null,
   "id": "143e5265",
   "metadata": {},
   "outputs": [],
   "source": []
  }
 ],
 "metadata": {
  "kernelspec": {
   "display_name": "Python 3 (ipykernel)",
   "language": "python",
   "name": "python3"
  },
  "language_info": {
   "codemirror_mode": {
    "name": "ipython",
    "version": 3
   },
   "file_extension": ".py",
   "mimetype": "text/x-python",
   "name": "python",
   "nbconvert_exporter": "python",
   "pygments_lexer": "ipython3",
   "version": "3.12.3"
  }
 },
 "nbformat": 4,
 "nbformat_minor": 5
}
