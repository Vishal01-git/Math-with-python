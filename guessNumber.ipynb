{
 "cells": [
  {
   "cell_type": "code",
   "execution_count": 2,
   "metadata": {},
   "outputs": [
    {
     "name": "stdout",
     "output_type": "stream",
     "text": [
      "Enter your number: 77\n",
      "Guess lower!\n",
      "Enter your number: 12\n",
      "Guess higher!\n",
      "Enter your number: 34\n",
      "Guess lower!\n",
      "Enter your number: 24\n",
      "Guess lower!\n",
      "Enter your number: 18\n",
      "Guess higher!\n",
      "Enter your number: 22\n",
      "Congratulation you guessed it right!\n"
     ]
    }
   ],
   "source": [
    "from numpy import random\n",
    "guessnumber = random.randint(1,101)\n",
    "number2guess = int(input(\"Enter your number: \"))\n",
    "while number2guess!=guessnumber:\n",
    "    if number2guess>guessnumber:\n",
    "        print(\"Guess lower!\")\n",
    "    else:\n",
    "        print(\"Guess higher!\")\n",
    "\n",
    "    number2guess = int(input(\"Enter your number: \"))\n",
    "\n",
    "\n",
    "print(\"Congratulation you guessed it right!\")\n",
    "         \n",
    "\n"
   ]
  },
  {
   "cell_type": "code",
   "execution_count": null,
   "metadata": {},
   "outputs": [],
   "source": []
  }
 ],
 "metadata": {
  "kernelspec": {
   "display_name": "Python 3 (ipykernel)",
   "language": "python",
   "name": "python3"
  },
  "language_info": {
   "codemirror_mode": {
    "name": "ipython",
    "version": 3
   },
   "file_extension": ".py",
   "mimetype": "text/x-python",
   "name": "python",
   "nbconvert_exporter": "python",
   "pygments_lexer": "ipython3",
   "version": "3.12.3"
  }
 },
 "nbformat": 4,
 "nbformat_minor": 4
}
